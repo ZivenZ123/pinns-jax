{
 "cells": [
  {
   "cell_type": "markdown",
   "id": "2a2fc3b7-3993-49b0-99b6-6300fa39c805",
   "metadata": {},
   "source": [
    "## Tutorial - 0: Continuous Forward Burgers\n",
    "\n",
    "Welcome to our first tutorial on Physics-Informed Neural Networks (PINNs) our new package, **`pinnsjax`**! This guide aims to introduce you to the integration of deep learning and scientific computing via PINNs, which embed physical laws into neural network training.\n",
    "\n",
    "#### Overview:\n",
    "\n",
    "- **Mesh Generation and Sampling:** Understanding how to create and use meshes for training PINNs, crucial for defining the domain of our problem.\n",
    "- **Neural Network Model with PINNs:** How to build and structure a neural network for physical law integration.\n",
    "- **Physical Laws in Neural Networks:** Detailing the implementation of differential equations within the network using `pde_fn` and `output_fn`.\n",
    "- **Training and Validation:** Utilizing our Trainer to train our model, including defining the training data, initial conditions, and handling boundary conditions.\n",
    "- **Results Visualization:** Saving and analyzing the outcomes of your PINN models."
   ]
  },
  {
   "cell_type": "markdown",
   "id": "57391070-fbb9-4580-9dec-be5bbae6e6ad",
   "metadata": {},
   "source": [
    "#### Install `pinnsjax`"
   ]
  },
  {
   "cell_type": "code",
   "execution_count": 1,
   "id": "46398b08-314a-4da1-8df1-40ea311ba5e7",
   "metadata": {},
   "outputs": [
    {
     "name": "stdout",
     "output_type": "stream",
     "text": [
      "Requirement already satisfied: pinnsjax in /home/reza/miniconda3/envs/jax/lib/python3.9/site-packages (0.0.1)\n",
      "Requirement already satisfied: hydra-core in /home/reza/miniconda3/envs/jax/lib/python3.9/site-packages (from pinnsjax) (1.3.2)\n",
      "Requirement already satisfied: scipy in /home/reza/miniconda3/envs/jax/lib/python3.9/site-packages (from pinnsjax) (1.11.4)\n",
      "Requirement already satisfied: pyDOE in /home/reza/miniconda3/envs/jax/lib/python3.9/site-packages (from pinnsjax) (0.3.8)\n",
      "Requirement already satisfied: matplotlib in /home/reza/miniconda3/envs/jax/lib/python3.9/site-packages (from pinnsjax) (3.8.0)\n",
      "Requirement already satisfied: rootutils in /home/reza/miniconda3/envs/jax/lib/python3.9/site-packages (from pinnsjax) (1.0.7)\n",
      "Requirement already satisfied: rich in /home/reza/miniconda3/envs/jax/lib/python3.9/site-packages (from pinnsjax) (13.6.0)\n",
      "Requirement already satisfied: tqdm in /home/reza/miniconda3/envs/jax/lib/python3.9/site-packages (from pinnsjax) (4.66.1)\n",
      "Requirement already satisfied: requests in /home/reza/miniconda3/envs/jax/lib/python3.9/site-packages (from pinnsjax) (2.31.0)\n",
      "Requirement already satisfied: omegaconf<2.4,>=2.2 in /home/reza/miniconda3/envs/jax/lib/python3.9/site-packages (from hydra-core->pinnsjax) (2.3.0)\n",
      "Requirement already satisfied: antlr4-python3-runtime==4.9.* in /home/reza/miniconda3/envs/jax/lib/python3.9/site-packages (from hydra-core->pinnsjax) (4.9.3)\n",
      "Requirement already satisfied: packaging in /home/reza/miniconda3/envs/jax/lib/python3.9/site-packages (from hydra-core->pinnsjax) (23.2)\n",
      "Requirement already satisfied: contourpy>=1.0.1 in /home/reza/miniconda3/envs/jax/lib/python3.9/site-packages (from matplotlib->pinnsjax) (1.1.1)\n",
      "Requirement already satisfied: cycler>=0.10 in /home/reza/miniconda3/envs/jax/lib/python3.9/site-packages (from matplotlib->pinnsjax) (0.12.1)\n",
      "Requirement already satisfied: fonttools>=4.22.0 in /home/reza/miniconda3/envs/jax/lib/python3.9/site-packages (from matplotlib->pinnsjax) (4.43.1)\n",
      "Requirement already satisfied: kiwisolver>=1.0.1 in /home/reza/miniconda3/envs/jax/lib/python3.9/site-packages (from matplotlib->pinnsjax) (1.4.5)\n",
      "Requirement already satisfied: numpy<2,>=1.21 in /home/reza/miniconda3/envs/jax/lib/python3.9/site-packages (from matplotlib->pinnsjax) (1.26.2)\n",
      "Requirement already satisfied: pillow>=6.2.0 in /home/reza/miniconda3/envs/jax/lib/python3.9/site-packages (from matplotlib->pinnsjax) (10.0.1)\n",
      "Requirement already satisfied: pyparsing>=2.3.1 in /home/reza/miniconda3/envs/jax/lib/python3.9/site-packages (from matplotlib->pinnsjax) (3.1.1)\n",
      "Requirement already satisfied: python-dateutil>=2.7 in /home/reza/miniconda3/envs/jax/lib/python3.9/site-packages (from matplotlib->pinnsjax) (2.8.2)\n",
      "Requirement already satisfied: importlib-resources>=3.2.0 in /home/reza/miniconda3/envs/jax/lib/python3.9/site-packages (from matplotlib->pinnsjax) (6.1.0)\n",
      "Requirement already satisfied: charset-normalizer<4,>=2 in /home/reza/miniconda3/envs/jax/lib/python3.9/site-packages (from requests->pinnsjax) (2.0.4)\n",
      "Requirement already satisfied: idna<4,>=2.5 in /home/reza/miniconda3/envs/jax/lib/python3.9/site-packages (from requests->pinnsjax) (3.4)\n",
      "Requirement already satisfied: urllib3<3,>=1.21.1 in /home/reza/miniconda3/envs/jax/lib/python3.9/site-packages (from requests->pinnsjax) (1.26.18)\n",
      "Requirement already satisfied: certifi>=2017.4.17 in /home/reza/miniconda3/envs/jax/lib/python3.9/site-packages (from requests->pinnsjax) (2023.11.17)\n",
      "Requirement already satisfied: markdown-it-py>=2.2.0 in /home/reza/miniconda3/envs/jax/lib/python3.9/site-packages (from rich->pinnsjax) (3.0.0)\n",
      "Requirement already satisfied: pygments<3.0.0,>=2.13.0 in /home/reza/miniconda3/envs/jax/lib/python3.9/site-packages (from rich->pinnsjax) (2.16.1)\n",
      "Requirement already satisfied: python-dotenv>=0.20.0 in /home/reza/miniconda3/envs/jax/lib/python3.9/site-packages (from rootutils->pinnsjax) (1.0.0)\n",
      "Requirement already satisfied: zipp>=3.1.0 in /home/reza/miniconda3/envs/jax/lib/python3.9/site-packages (from importlib-resources>=3.2.0->matplotlib->pinnsjax) (3.17.0)\n",
      "Requirement already satisfied: mdurl~=0.1 in /home/reza/miniconda3/envs/jax/lib/python3.9/site-packages (from markdown-it-py>=2.2.0->rich->pinnsjax) (0.1.2)\n",
      "Requirement already satisfied: PyYAML>=5.1.0 in /home/reza/miniconda3/envs/jax/lib/python3.9/site-packages (from omegaconf<2.4,>=2.2->hydra-core->pinnsjax) (6.0.1)\n",
      "Requirement already satisfied: six>=1.5 in /home/reza/miniconda3/envs/jax/lib/python3.9/site-packages (from python-dateutil>=2.7->matplotlib->pinnsjax) (1.16.0)\n"
     ]
    }
   ],
   "source": [
    "!pip install pinnsjax"
   ]
  },
  {
   "cell_type": "markdown",
   "id": "15deac4a-feb1-4a53-bc52-45e8f1a9c04d",
   "metadata": {},
   "source": [
    "#### Import Libraries"
   ]
  },
  {
   "cell_type": "code",
   "execution_count": 1,
   "id": "6676140f-6407-47bf-853f-095424674dee",
   "metadata": {},
   "outputs": [],
   "source": [
    "from typing import Dict\n",
    "\n",
    "import jax\n",
    "import numpy as np\n",
    "\n",
    "import pinnsjax"
   ]
  },
  {
   "cell_type": "markdown",
   "id": "e0aebf83-e628-4838-823f-018c675a6600",
   "metadata": {},
   "source": [
    "### Define Mesh\n",
    "\n",
    "Physics-Informed Neural Networks (PINNs) require a discretized domain (mesh) over which the physical equations are solved. In `pinnsjax`, there are primarily two approaches to define this mesh:\n",
    "\n",
    "\n",
    "- **Defining Time and Spatial Domains Separately:** Here, we use `pinnsjax.data.TimeDomain` and `pinnsjax.data.Interval` for creating 1-D spatial domains. These domains are then used to define a `pinnsjax.data.Mesh`.\n",
    "\n",
    "- **Defining Point Clouds:** This method involves directly utilizing spatio-temporal data (e.g., from experiments or other simulations) to create a mesh using `pinnsjax.data.PointCloud`.\n",
    "\n",
    "Both approaches should ideally yield the same results."
   ]
  },
  {
   "cell_type": "markdown",
   "id": "4ca03b7e-2508-4e0a-8768-6e762dde0d84",
   "metadata": {},
   "source": [
    "#### Option 1: Defining Mesh with Separate Time and Spatial Domains\n",
    "\n",
    "We start by defining a function to read and preprocess the solution data from a file. The output should be a dictionary."
   ]
  },
  {
   "cell_type": "code",
   "execution_count": 27,
   "id": "f7f04332-675a-41b0-b878-82606e4e0286",
   "metadata": {},
   "outputs": [],
   "source": [
    "def read_data_fn(root_path):\n",
    "    \"\"\"Read and preprocess data from the specified root path.\n",
    "\n",
    "    :param root_path: The root directory containing the data.\n",
    "    :return: Processed data will be used in Mesh class.\n",
    "    \"\"\"\n",
    "\n",
    "    data = pinnsjax.utils.load_data(root_path, \"burgers_shock.mat\")\n",
    "    exact_u = np.real(data[\"usol\"])\n",
    "    return {\"u\": exact_u}"
   ]
  },
  {
   "cell_type": "markdown",
   "id": "27606399-b8d2-4dce-99eb-b964298158d0",
   "metadata": {},
   "source": [
    "Now, define the time and spatial domains for mesh generation. The choice of these parameters depends on the specific problem being solved and should be set accordingly."
   ]
  },
  {
   "cell_type": "code",
   "execution_count": 28,
   "id": "b7e16b89-9294-4149-914d-fa0b578cba47",
   "metadata": {},
   "outputs": [],
   "source": [
    "time_domain = pinnsjax.data.TimeDomain(t_interval=[0, 0.99], t_points = 100)\n",
    "spatial_domain = pinnsjax.data.Interval(x_interval=[-1, 1], shape = [256, 1])"
   ]
  },
  {
   "cell_type": "markdown",
   "id": "986cb018-49ff-4d0d-a716-0a564d4cbafc",
   "metadata": {},
   "source": [
    "The mesh is then defined using the time and spatial domains along with the read_data_fn function. "
   ]
  },
  {
   "cell_type": "code",
   "execution_count": 29,
   "id": "b079cfd7-54ab-4b76-927d-de322fa5a67e",
   "metadata": {},
   "outputs": [],
   "source": [
    "mesh = pinnsjax.data.Mesh(root_dir='data',\n",
    "                          read_data_fn=read_data_fn,\n",
    "                          spatial_domain = spatial_domain,\n",
    "                          time_domain = time_domain)"
   ]
  },
  {
   "cell_type": "markdown",
   "id": "5a175686-09ec-4c0b-a4a4-877da814c8b9",
   "metadata": {},
   "source": [
    "#### Option 2: Using Point Clouds\n",
    "\n",
    "For scenarios where the spatial and temporal data along with solutions are directly available (e.g., from experimental measurements), we can create a mesh using `pinnsjax.data.PointCloud`.\n",
    "\n",
    "**Note:** It's crucial to format the spatial and temporal domain dimensions correctly. Specifically:\n",
    "\n",
    "- **Spatial Domain:** Each axis should be structured in the shape of $(N \\times 1)$, where $N$ represents the number of spatial points.\n",
    "- **Time Domain:** This should be formatted as $(T \\times 1)$, where $T$ indicates the number of time steps.\n",
    "- **Solution Data:** Each solution variable (e.g., temperature, velocity) should be in the shape of $(N \\times T)$, aligning with the spatial and temporal points."
   ]
  },
  {
   "cell_type": "code",
   "execution_count": 5,
   "id": "fa987fe1-8bd5-4c23-8231-127346077a73",
   "metadata": {},
   "outputs": [],
   "source": [
    "def read_data_fn(root_path):\n",
    "    \"\"\"Read and preprocess data from the specified root path.\n",
    "\n",
    "    :param root_path: The root directory containing the data.\n",
    "    :return: Processed data will be used in PointCloud class.\n",
    "    \"\"\"\n",
    "\n",
    "    data = pinnsjax.utils.load_data(root_path, \"burgers_shock.mat\")\n",
    "\n",
    "    x = data['x']\n",
    "    t = data['t']\n",
    "    exact_u = np.real(data[\"usol\"])\n",
    "    \n",
    "    return pinnsjax.data.PointCloudData(\n",
    "            spatial=[x], time=[t], solution={\"u\": exact_u}\n",
    "    )"
   ]
  },
  {
   "cell_type": "markdown",
   "id": "00355618-f848-4809-978e-3d0094f245ed",
   "metadata": {},
   "source": [
    "Now, mesh can be initalize with using the function and the directory to the folder of data."
   ]
  },
  {
   "cell_type": "code",
   "execution_count": 6,
   "id": "b4cdbae0-009b-436b-9db0-1f562085ab54",
   "metadata": {},
   "outputs": [],
   "source": [
    "mesh = pinnsjax.data.PointCloud(root_dir='./data',\n",
    "                                read_data_fn=read_data_fn)"
   ]
  },
  {
   "cell_type": "markdown",
   "id": "687088a4-1a3f-4ccf-a3f4-6bb226981773",
   "metadata": {},
   "source": [
    "### Define Train datasets"
   ]
  },
  {
   "cell_type": "markdown",
   "id": "203acd43-2376-4380-963e-a42b438d2d35",
   "metadata": {},
   "source": [
    "For solving Burgers PDE, we have:\n",
    "- Initial condition\n",
    "- Dirichlet boundary condition\n",
    "- Collection points for the PDE."
   ]
  },
  {
   "cell_type": "markdown",
   "id": "617c0fce-50a5-4313-9b27-747d3f9ea1fe",
   "metadata": {},
   "source": [
    "#### Initial Condition\n",
    "\n",
    "Let's start with initial condition of the Burgers.\n",
    "$$ u(0, x) = -\\sin(\\pi x) $$\n",
    "\n",
    "For defining initial condition, again we have two options.\n",
    "\n",
    "- **Sample from the data.**\n",
    "- **Defining a function for calculating initial condition.**"
   ]
  },
  {
   "cell_type": "markdown",
   "id": "a97e4020-d83b-459a-93f3-e7abb125ec06",
   "metadata": {},
   "source": [
    "##### Set number of samples"
   ]
  },
  {
   "cell_type": "code",
   "execution_count": 7,
   "id": "8be5824c-6c26-423d-8178-e9310b67dfec",
   "metadata": {},
   "outputs": [],
   "source": [
    "N0 = 50"
   ]
  },
  {
   "cell_type": "markdown",
   "id": "a22c4c2f-87c2-4eac-96da-5980791f6cc3",
   "metadata": {},
   "source": [
    "##### Option 1: Sample from the data"
   ]
  },
  {
   "cell_type": "code",
   "execution_count": 8,
   "id": "1e230de8-eddd-4c49-97d5-abd06913530f",
   "metadata": {},
   "outputs": [
    {
     "name": "stderr",
     "output_type": "stream",
     "text": [
      "WARNING: All log messages before absl::InitializeLog() is called are written to STDERR\n",
      "I0000 00:00:1716428270.113213   30367 tfrt_cpu_pjrt_client.cc:349] TfrtCpuClient created.\n"
     ]
    }
   ],
   "source": [
    "in_c = pinnsjax.data.InitialCondition(mesh = mesh,\n",
    "                                      num_sample = N0,\n",
    "                                      solution = ['u'])"
   ]
  },
  {
   "cell_type": "markdown",
   "id": "4f35d57e-6243-4775-ab1c-1d070bf20cf1",
   "metadata": {},
   "source": [
    "##### Option 2: Defining a function for calculating initial condition"
   ]
  },
  {
   "cell_type": "markdown",
   "id": "7579313b-2079-46b3-806d-7c81efbc6e26",
   "metadata": {},
   "source": [
    "The input of `initial_fun` should be the same as spatial domain of the problem."
   ]
  },
  {
   "cell_type": "code",
   "execution_count": 9,
   "id": "225da7c1-c211-4dfb-b95f-a6b4ac51df52",
   "metadata": {},
   "outputs": [],
   "source": [
    "def initial_fun(x):\n",
    "    return {'u': - np.sin(x*np.pi)}"
   ]
  },
  {
   "cell_type": "code",
   "execution_count": 10,
   "id": "142c93c1-65d8-4cf6-a175-98615ff508c2",
   "metadata": {},
   "outputs": [],
   "source": [
    "in_c = pinnsjax.data.InitialCondition(mesh = mesh,\n",
    "                                      num_sample = N0,\n",
    "                                      initial_fun = initial_fun,\n",
    "                                      solution = ['u'])"
   ]
  },
  {
   "cell_type": "markdown",
   "id": "4d626918-27a8-48e4-888f-703871193d42",
   "metadata": {},
   "source": [
    "The `solution` attribute in `pinnsjax.data.InitialCondition` specifies the solutions (`u` in our case) to be sampled for initial conditions."
   ]
  },
  {
   "cell_type": "markdown",
   "id": "37b283ff-80a1-4074-8c63-0df265a63925",
   "metadata": {},
   "source": [
    "#### Periodic Boundary Condition"
   ]
  },
  {
   "cell_type": "markdown",
   "id": "42cbb359-8cd3-4bf0-ac27-70921c2e5c6d",
   "metadata": {},
   "source": [
    "The `pinnsjax.data.DirichletBoundaryCondition` is used to specify fixed values of a function at specific points or boundaries in the domain. In our case, for the Burgers equation, we have:\n",
    "\n",
    "$$ u(t,-1) = u(t, 1) = 0 $$"
   ]
  },
  {
   "cell_type": "code",
   "execution_count": 11,
   "id": "7002a433-0e32-441d-a60e-6386f8c2c594",
   "metadata": {},
   "outputs": [],
   "source": [
    "N_b = 50\n",
    "di_b = pinnsjax.data.DirichletBoundaryCondition(mesh = mesh,\n",
    "                                                num_sample = N_b,\n",
    "                                                solution = ['u'])"
   ]
  },
  {
   "cell_type": "markdown",
   "id": "17457d3d-3ccd-4b79-b7ab-1975bc9d19a3",
   "metadata": {},
   "source": [
    "#### Mesh Sampler for collection points and solutions\n",
    "\n",
    "In our problem, the partial differential equations (PDEs) governing the dynamics are given by:\n",
    "\n",
    "$$ f_u := u_t + uu_x - (0.01/\\pi)u_{xx}$$\n",
    "\n",
    "To find the solutions to these PDEs using a neural network, we must sample points from the domain at which the network will be trained to satisfy these equations. This sampling process is crucial for training our PINN. We utilize the `pinnsjax.data.MeshSampler` for this purpose, specifying the following:\n",
    "\n",
    "- **Number of Sample Points (N_f):** We choose to sample 20,000 points from the domain. This number is a balance between computational efficiency and the need for a sufficiently dense sampling to capture the dynamics of the PDEs.\n",
    "- **Mesh (mesh):** This parameter defines the spatial-temporal domain from which the points will be sampled.\n",
    "- **Collection Points:** We define `['f_u']` as the targets for our collection points. These are not direct outputs from the neural network but are derived from the network outputs and their derivatives (We will define `pde_fn` function later). The PINN will be trained such that these expressions tend towards zero, aligning with the PDE constraints.\n",
    "\n",
    "Here's the code to implement this sampler:"
   ]
  },
  {
   "cell_type": "code",
   "execution_count": 12,
   "id": "492bb3de-453c-49b3-b2e6-add7f3458de7",
   "metadata": {},
   "outputs": [],
   "source": [
    "N_f = 20000\n",
    "me_s = pinnsjax.data.MeshSampler(mesh = mesh,\n",
    "                                 num_sample = N_f,\n",
    "                                 collection_points = ['f_u'])"
   ]
  },
  {
   "cell_type": "markdown",
   "id": "76ed5d5e-f384-4480-b1e5-49d2b88a87ae",
   "metadata": {},
   "source": [
    "### Define Validation dataset\n",
    "\n",
    "For validation, we sample all points from the mesh to evaluate our model comprehensively. Model will be validated for solutions of `u`.\n",
    "\n",
    "**Note:** If `num_sample` is not specified, the sampler will use the entire mesh."
   ]
  },
  {
   "cell_type": "code",
   "execution_count": 13,
   "id": "7c530a34-deef-4660-849b-02c240c5db11",
   "metadata": {},
   "outputs": [],
   "source": [
    "val_s = pinnsjax.data.MeshSampler(mesh = mesh,\n",
    "                                  solution = ['u'])"
   ]
  },
  {
   "cell_type": "markdown",
   "id": "9959e346-1d1a-4d9c-bf38-d23c956d34f8",
   "metadata": {},
   "source": [
    "### Define Neural Networks\n",
    "\n",
    "Here, we try to define a neural network for solving the problem. For defining a neural network, we should set number of layers and the name of the outputs. Also, domain bounds should be defined. The `lb` and `ub` parameters represent the lower and upper bounds of the spatial-temporal domain, helping in normalizing inputs to the network. Therefore, the inputs of this network are `x` and `t`, and the output of this network is `u`."
   ]
  },
  {
   "cell_type": "code",
   "execution_count": 14,
   "id": "5eeb7181-3dfe-4aa9-b454-61644b1542c9",
   "metadata": {},
   "outputs": [],
   "source": [
    "net = pinnsjax.models.FCN(layers = [2, 20, 20, 20, 20, 20, 20, 20, 20, 1],\n",
    "                          output_names = ['u'],\n",
    "                          lb=mesh.lb,\n",
    "                          ub=mesh.ub)"
   ]
  },
  {
   "cell_type": "markdown",
   "id": "260e697e-f68b-4c17-9445-fe319aa06221",
   "metadata": {},
   "source": [
    "### Define `pde_fn` function\n",
    "\n",
    "Now, we define `pde_fn`.\n",
    "- **`pde_fn`:** formulates the PDE constraints, which will be used by the `MeshSampler` to compute the loss at the collection points. "
   ]
  },
  {
   "cell_type": "markdown",
   "id": "db0f43f5-972b-4be0-94da-40feea4ea3c7",
   "metadata": {},
   "source": [
    "#### `pde_fn` function\n",
    "\n",
    "**Note:** `pde_fn` should always have Five inputs:\n",
    "- **Functional Model:** This is the neural network or any other functional approximation model, used for computing gradients with JAX automatic differentiation.\n",
    "- **Model's Prameters:** These include all trainable parameters of the model as well as any additional parameters needed for inverse problems.\n",
    "- **Outputs:** The outputs of the network, typically a dictionary. For the Burgers' equation, this dictionary should have at least one key `u` representing the function `u(t, x)`.\n",
    "- **Spatial domains:** These are the spatial domain variables. In our case, because our problem has 1-D spatial domain, the input just have `x`. For example, if we had 2-D space, we need another input for that dimention. For example, the inputs from `(functional_model, params, outputs, x, t)` will be changed to `(functional_model, params, outputs, x, y, t)`.\n",
    "- **Time domin:** The last input of `pde_fn` function always should be time."
   ]
  },
  {
   "cell_type": "code",
   "execution_count": 15,
   "id": "e8763e3c-ebaa-4f59-8a75-515818f379f3",
   "metadata": {},
   "outputs": [],
   "source": [
    "def pde_fn(functional_model,\n",
    "           params,\n",
    "           outputs: Dict[str, jax.Array],\n",
    "           x: jax.Array,\n",
    "           t: jax.Array):   \n",
    "    \"\"\"Define the partial differential equations (PDEs).\"\"\"\n",
    "\n",
    "    u_x, u_t = pinnsjax.utils.gradient(functional_model, argnums=(1, 2), order=1)(params, x, t, 'u')\n",
    "    u_xx = pinnsjax.utils.gradient(functional_model, argnums=1, order=2)(params, x, t, 'u')[0]\n",
    "\n",
    "    outputs[\"f_u\"] = u_t + outputs[\"u\"] * u_x - (0.01 / np.pi) * u_xx\n",
    "\n",
    "    return outputs"
   ]
  },
  {
   "cell_type": "markdown",
   "id": "5ed79263-eeff-466d-b5c1-183c0d050329",
   "metadata": {},
   "source": [
    "### Define PINNDataModule and PINNModule\n",
    "\n",
    "To integrate with Lightning, we utilize two specialized modules:\n",
    "\n",
    "- `PINNDataModule` manages data.\n",
    "- `PINNModule` handles the model and compilation."
   ]
  },
  {
   "cell_type": "markdown",
   "id": "b04abdf5-b97e-433a-8663-a6b2866200d9",
   "metadata": {},
   "source": [
    "#### Define `PINNDataModule`\n",
    "Here, we define collection points, initial condition, and preiodic boundary condition as training datasets, and also, we set validation set. `PINNDataModule` is used for defining training, validation, prediction, and test datasets."
   ]
  },
  {
   "cell_type": "code",
   "execution_count": 16,
   "id": "bc810afe-fa36-4948-b31f-e5527e54b28b",
   "metadata": {},
   "outputs": [],
   "source": [
    "train_datasets = [me_s, in_c, di_b]\n",
    "val_dataset = val_s\n",
    "datamodule = pinnsjax.data.PINNDataModule(train_datasets = train_datasets,\n",
    "                                            val_dataset = val_dataset,\n",
    "                                            pred_dataset = val_s)"
   ]
  },
  {
   "cell_type": "markdown",
   "id": "1d170a8a-a55e-4d40-9078-4a2f56b32813",
   "metadata": {},
   "source": [
    "#### Define `PINNModule`\n",
    "\n",
    "`PINNModule` handle several things. Here, we will explore the inputs of this class:\n",
    "\n",
    "- **net:**  The neural network model to be used for approximating solutions.\n",
    "- **pde_fn:** The partial differential equation (PDE) function defining the PDE to solve.\n",
    "- **optimizer:**  (Optional) The optimizer used for training the neural network. The default is Adam\n",
    "- **loss_fn:** (Optional) The loss function to use, either \"sse\" or \"mse\". The default is \"sse\".\n",
    "- **extra_variables:** (Optional) Extra variables in inverse problems. The default is None.\n",
    "- **runge_kutta:** (Optional) Runge-Kutta method for solving PDEs in discrete mode. The default is None.\n",
    "- **jit_compile:** (Optional) Flag to enable JIT compilation. The default is True.\n",
    "\n",
    "In this example, we initalize `PINNModule` with defined variables. We set Adam optimizer and try to compile the model with XLA compiler. The loss function here is Mean Square Error (MSE)."
   ]
  },
  {
   "cell_type": "code",
   "execution_count": 17,
   "id": "1a23d83e-d7b6-468e-8204-74b9a40355a0",
   "metadata": {},
   "outputs": [],
   "source": [
    "model = pinnsjax.models.PINNModule(net = net,\n",
    "                                   pde_fn = pde_fn,\n",
    "                                   loss_fn = 'mse')"
   ]
  },
  {
   "cell_type": "markdown",
   "id": "730294eb-5dd2-46ee-84d7-4743f8bbff13",
   "metadata": {},
   "source": [
    "### Setting Up the Trainer\n",
    "\n",
    "For training our model, we write a custom trainer. Arguments that you can set are:\n",
    "\n",
    "- **max_epochs:** Maximum number of training epochs.\n",
    "- **check_val_every_n_epoch:** (Optional) Frequency of validation checks within epochs. Defualt is 1.\n",
    "- **enable_progress_bar:** (Optional) Flag to enable/disable the progress bar. Defualt is True.\n"
   ]
  },
  {
   "cell_type": "code",
   "execution_count": 18,
   "id": "2d63a5cc-a0c4-4de7-ba2b-2b10f5140fc9",
   "metadata": {},
   "outputs": [],
   "source": [
    "trainer = pinnsjax.Trainer(max_epochs=20000, check_val_every_n_epoch=1000)"
   ]
  },
  {
   "cell_type": "markdown",
   "id": "5107377f-c811-43c8-8534-644a1dbb640d",
   "metadata": {},
   "source": [
    "### Training"
   ]
  },
  {
   "cell_type": "code",
   "execution_count": 19,
   "id": "ee7c8b03-1706-4ba4-84c5-0d293a178a9d",
   "metadata": {},
   "outputs": [
    {
     "name": "stderr",
     "output_type": "stream",
     "text": [
      "20000/20000 100%|██████████|[03:44<00:00, 88.97it/s, val/loss: 0.0001, val/error_u: 0.0120, train/loss: 0.0001: ]\n"
     ]
    }
   ],
   "source": [
    "trainer.fit(model=model, datamodule=datamodule)"
   ]
  },
  {
   "cell_type": "markdown",
   "id": "82b872bd-6120-4c65-8693-a9281a2d2396",
   "metadata": {},
   "source": [
    "### Validation"
   ]
  },
  {
   "cell_type": "code",
   "execution_count": 20,
   "id": "26c2c9b9-52e9-4a89-aa44-be86fbb27e22",
   "metadata": {},
   "outputs": [
    {
     "data": {
      "text/plain": [
       "(Array(4.981182e-05, dtype=float32), {'u': Array(0.01148839, dtype=float32)})"
      ]
     },
     "execution_count": 20,
     "metadata": {},
     "output_type": "execute_result"
    }
   ],
   "source": [
    "trainer.validate(model=model, datamodule=datamodule)"
   ]
  },
  {
   "cell_type": "markdown",
   "id": "5cd209e5-e554-4baf-9c4b-f78174f8147c",
   "metadata": {},
   "source": [
    "### Plotting\n",
    "\n",
    "For plotting, we need predict the results, and then, we should concatenate the results."
   ]
  },
  {
   "cell_type": "code",
   "execution_count": 21,
   "id": "d1a853d0-edc1-494f-a5ff-0ad21870aeb6",
   "metadata": {},
   "outputs": [],
   "source": [
    "preds_dict = trainer.predict(model=model, datamodule=datamodule)"
   ]
  },
  {
   "cell_type": "code",
   "execution_count": 31,
   "id": "07f1631e-0f78-4a62-8833-9ae69bf3ada9",
   "metadata": {},
   "outputs": [
    {
     "data": {
      "image/png": "[encoded data removed]",
      "text/plain": [
       "<Figure size 809.465x450.249 with 6 Axes>"
      ]
     },
     "metadata": {},
     "output_type": "display_data"
    }
   ],
   "source": [
    "for sol_key, pred in preds_dict.items():\n",
    "    preds_dict[sol_key] = pred\n",
    "pinnsjax.utils.plot_burgers_continuous_forward(mesh=mesh,\n",
    "                                               preds=preds_dict,\n",
    "                                               train_datasets=train_datasets,\n",
    "                                               val_dataset=val_dataset,\n",
    "                                               file_name='out')"
   ]
  }
 ],
 "metadata": {
  "kernelspec": {
   "display_name": "jax",
   "language": "python",
   "name": "python3"
  },
  "language_info": {
   "codemirror_mode": {
    "name": "ipython",
    "version": 3
   },
   "file_extension": ".py",
   "mimetype": "text/x-python",
   "name": "python",
   "nbconvert_exporter": "python",
   "pygments_lexer": "ipython3",
   "version": "3.9.18"
  }
 },
 "nbformat": 4,
 "nbformat_minor": 5
}
