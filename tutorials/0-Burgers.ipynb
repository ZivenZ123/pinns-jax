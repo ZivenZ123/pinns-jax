{
 "cells": [
  {
   "cell_type": "markdown",
   "id": "2a2fc3b7-3993-49b0-99b6-6300fa39c805",
   "metadata": {},
   "source": [
    "## 教程 - 0: 连续前向Burgers方程\n",
    "\n",
    "欢迎来到我们关于物理信息神经网络（PINNs）的第一个教程，使用我们的新包 **`pinnsjax`**！本指南旨在向您介绍通过PINNs将深度学习和科学计算相结合的方法，该方法将物理定律嵌入到神经网络训练中。\n",
    "\n",
    "#### 概述：\n",
    "\n",
    "- **网格生成和采样：** 了解如何创建和使用网格来训练PINNs，这对于定义问题的域至关重要。\n",
    "- **基于PINNs的神经网络模型：** 如何构建和组织神经网络以集成物理定律。\n",
    "- **神经网络中的物理定律：** 使用 `pde_fn` 和 `output_fn` 详细说明网络内微分方程的实现。\n",
    "- **训练和验证：** 利用我们的Trainer来训练模型，包括定义训练数据、初始条件以及处理边界条件。\n",
    "- **结果可视化：** 保存和分析PINN模型的结果。"
   ]
  },
  {
   "cell_type": "markdown",
   "id": "57391070-fbb9-4580-9dec-be5bbae6e6ad",
   "metadata": {},
   "source": [
    "#### 安装 `pinnsjax`"
   ]
  },
  {
   "cell_type": "code",
   "execution_count": 1,
   "id": "46398b08-314a-4da1-8df1-40ea311ba5e7",
   "metadata": {},
   "outputs": [],
   "source": [
    "#%pip install pinnsjax"
   ]
  },
  {
   "cell_type": "markdown",
   "id": "15deac4a-feb1-4a53-bc52-45e8f1a9c04d",
   "metadata": {},
   "source": [
    "#### 导入库"
   ]
  },
  {
   "cell_type": "code",
   "execution_count": 2,
   "id": "6676140f-6407-47bf-853f-095424674dee",
   "metadata": {},
   "outputs": [],
   "source": [
    "from typing import Dict\n",
    "\n",
    "import jax\n",
    "import numpy as np\n",
    "\n",
    "import pinnsjax"
   ]
  },
  {
   "cell_type": "markdown",
   "id": "e0aebf83-e628-4838-823f-018c675a6600",
   "metadata": {},
   "source": [
    "### 定义网格\n",
    "\n",
    "物理信息神经网络（PINNs）需要一个离散化域（网格）来求解物理方程。在 `pinnsjax` 中，主要有两种方法来定义这个网格：\n",
    "\n",
    "\n",
    "- **分别定义时间和空间域：** 这里，我们使用 `pinnsjax.data.TimeDomain` 来创建时间域和 `pinnsjax.data.Interval` 来创建1-D空间域。然后这些域被用来定义一个 `pinnsjax.data.Mesh`。\n",
    "\n",
    "- **定义点云：** 这种方法直接利用时空数据（例如，来自实验或其他模拟）来使用 `pinnsjax.data.PointCloud` 创建网格。\n",
    "\n",
    "这两种方法理想情况下应该产生相同的结果。"
   ]
  },
  {
   "cell_type": "markdown",
   "id": "4ca03b7e-2508-4e0a-8768-6e762dde0d84",
   "metadata": {},
   "source": [
    "#### 选项1：使用分离的时间和空间域定义网格\n",
    "\n",
    "我们首先定义一个函数来读取和预处理来自文件的解数据。输出应该是一个字典。"
   ]
  },
  {
   "cell_type": "code",
   "execution_count": 3,
   "id": "f7f04332-675a-41b0-b878-82606e4e0286",
   "metadata": {},
   "outputs": [],
   "source": [
    "def read_data_fn(root_path):\n",
    "    \"\"\"从指定的根路径读取和预处理数据。\n",
    "\n",
    "    :param root_path: 数据文件应该位于的根目录。\n",
    "    :return: 处理后的数据将在Mesh类中使用。\n",
    "    \"\"\"\n",
    "\n",
    "    # 从指定路径加载Burgers方程的数据文件\n",
    "    data = pinnsjax.utils.load_data(root_path, \"burgers_shock.mat\")\n",
    "    # 提取精确解的实部，避免复数解\n",
    "    exact_u = np.real(data[\"usol\"])\n",
    "    # 返回包含解的字典，键名为\"u\"\n",
    "    return {\"u\": exact_u}"
   ]
  },
  {
   "cell_type": "markdown",
   "id": "27606399-b8d2-4dce-99eb-b964298158d0",
   "metadata": {},
   "source": [
    "现在，为网格生成定义时间和空间域。这些参数的选择取决于要解决的特定问题，应相应设置。"
   ]
  },
  {
   "cell_type": "code",
   "execution_count": 4,
   "id": "b7e16b89-9294-4149-914d-fa0b578cba47",
   "metadata": {},
   "outputs": [],
   "source": [
    "# 定义时间域：从0到0.99的时间区间，共100个时间点\n",
    "time_domain = pinnsjax.data.TimeDomain(t_interval=[0, 0.99], t_points = 100)\n",
    "# 定义空间域：从-1到1的一维空间区间，共256个空间点\n",
    "spatial_domain = pinnsjax.data.Interval(x_interval=[-1, 1], shape = 256)"
   ]
  },
  {
   "cell_type": "markdown",
   "id": "986cb018-49ff-4d0d-a716-0a564d4cbafc",
   "metadata": {},
   "source": [
    "然后使用时间和空间域以及read_data_fn函数定义网格。"
   ]
  },
  {
   "cell_type": "code",
   "execution_count": 5,
   "id": "b079cfd7-54ab-4b76-927d-de322fa5a67e",
   "metadata": {},
   "outputs": [],
   "source": [
    "mesh = pinnsjax.data.Mesh(root_dir = 'data',  # 指定数据文件所在的根目录\n",
    "                          read_data_fn = read_data_fn,  # 传入读取数据的函数\n",
    "                          spatial_domain = spatial_domain,  # 传入之前定义的空间域\n",
    "                          time_domain = time_domain)  # 传入之前定义的时间域"
   ]
  },
  {
   "cell_type": "markdown",
   "id": "5a175686-09ec-4c0b-a4a4-877da814c8b9",
   "metadata": {},
   "source": [
    "#### 选项2：使用点云\n",
    "\n",
    "对于直接可获得空间和时间数据以及解的情况（例如，来自实验测量），我们可以使用 `pinnsjax.data.PointCloud` 创建网格。\n",
    "\n",
    "**注意：** 正确格式化空间和时间域维度至关重要。具体来说：\n",
    "\n",
    "- **空间域：** 每个轴应以 $(N \\times 1)$ 的形状构建，其中 $N$ 表示空间点的数量。\n",
    "- **时间域：** 这应该格式化为 $(T \\times 1)$，其中 $T$ 表示时间步的数量。\n",
    "- **解数据：** 每个解（例如温度、速度）应为 $(N \\times T)$ 的形状，与空间和时间点对齐。"
   ]
  },
  {
   "cell_type": "code",
   "execution_count": 6,
   "id": "fa987fe1-8bd5-4c23-8231-127346077a73",
   "metadata": {},
   "outputs": [],
   "source": [
    "def read_data_fn(root_path):\n",
    "    \"\"\"从指定的根路径读取和预处理数据。\n",
    "\n",
    "    :param root_path: 数据文件应该位于的根目录。\n",
    "    :return: 处理后的数据将在PointCloud类中使用。\n",
    "    \"\"\"\n",
    "\n",
    "    data = pinnsjax.utils.load_data(root_path, \"burgers_shock.mat\")\n",
    "\n",
    "    x = data['x']\n",
    "    t = data['t']\n",
    "    exact_u = np.real(data[\"usol\"])\n",
    "    \n",
    "    return pinnsjax.data.PointCloudData(\n",
    "        spatial=[x], time=[t], solution={\"u\": exact_u}\n",
    "    )"
   ]
  },
  {
   "cell_type": "markdown",
   "id": "00355618-f848-4809-978e-3d0094f245ed",
   "metadata": {},
   "source": [
    "现在，可以使用该函数和数据文件夹的目录初始化网格。"
   ]
  },
  {
   "cell_type": "code",
   "execution_count": 7,
   "id": "b4cdbae0-009b-436b-9db0-1f562085ab54",
   "metadata": {},
   "outputs": [],
   "source": [
    "mesh = pinnsjax.data.PointCloud(root_dir='./data',\n",
    "                                read_data_fn=read_data_fn)"
   ]
  },
  {
   "cell_type": "markdown",
   "id": "687088a4-1a3f-4ccf-a3f4-6bb226981773",
   "metadata": {},
   "source": [
    "### 定义训练数据集"
   ]
  },
  {
   "cell_type": "markdown",
   "id": "203acd43-2376-4380-963e-a42b438d2d35",
   "metadata": {},
   "source": [
    "对于求解Burgers偏微分方程，我们有：\n",
    "- 初始条件\n",
    "- 狄利克雷边界条件\n",
    "- PDE的采集点。"
   ]
  },
  {
   "cell_type": "markdown",
   "id": "617c0fce-50a5-4313-9b27-747d3f9ea1fe",
   "metadata": {},
   "source": [
    "#### 初始条件\n",
    "\n",
    "让我们从Burgers方程的初始条件开始。\n",
    "$$ u(0, x) = -\\sin(\\pi x) $$\n",
    "\n",
    "对于定义初始条件，我们同样有两个选择。\n",
    "\n",
    "- **从数据中采样。**\n",
    "- **定义一个计算初始条件的函数。**"
   ]
  },
  {
   "cell_type": "markdown",
   "id": "a97e4020-d83b-459a-93f3-e7abb125ec06",
   "metadata": {},
   "source": [
    "##### 设置样本数量"
   ]
  },
  {
   "cell_type": "code",
   "execution_count": 8,
   "id": "8be5824c-6c26-423d-8178-e9310b67dfec",
   "metadata": {},
   "outputs": [],
   "source": [
    "N0 = 50"
   ]
  },
  {
   "cell_type": "markdown",
   "id": "a22c4c2f-87c2-4eac-96da-5980791f6cc3",
   "metadata": {},
   "source": [
    "##### 选项1：从数据中采样"
   ]
  },
  {
   "cell_type": "code",
   "execution_count": 9,
   "id": "1e230de8-eddd-4c49-97d5-abd06913530f",
   "metadata": {},
   "outputs": [],
   "source": [
    "in_c = pinnsjax.data.InitialCondition(mesh = mesh,\n",
    "                                      num_sample = N0,\n",
    "                                      solution = ['u'])"
   ]
  },
  {
   "cell_type": "markdown",
   "id": "4f35d57e-6243-4775-ab1c-1d070bf20cf1",
   "metadata": {},
   "source": [
    "##### 选项2：定义一个计算初始条件的函数"
   ]
  },
  {
   "cell_type": "markdown",
   "id": "7579313b-2079-46b3-806d-7c81efbc6e26",
   "metadata": {},
   "source": [
    "`initial_fun` 的输入应该与问题的空间域相同。"
   ]
  },
  {
   "cell_type": "code",
   "execution_count": 10,
   "id": "225da7c1-c211-4dfb-b95f-a6b4ac51df52",
   "metadata": {},
   "outputs": [],
   "source": [
    "def initial_fun(x):\n",
    "    return {'u': - np.sin(x*np.pi)}"
   ]
  },
  {
   "cell_type": "code",
   "execution_count": 11,
   "id": "142c93c1-65d8-4cf6-a175-98615ff508c2",
   "metadata": {},
   "outputs": [],
   "source": [
    "in_c = pinnsjax.data.InitialCondition(mesh = mesh,\n",
    "                                      num_sample = N0,\n",
    "                                      initial_fun = initial_fun,\n",
    "                                      solution = ['u'])"
   ]
  },
  {
   "cell_type": "markdown",
   "id": "4d626918-27a8-48e4-888f-703871193d42",
   "metadata": {},
   "source": [
    "`pinnsjax.data.InitialCondition` 中的 `solution` 属性指定了要采样的解（在我们的例子中是 `u`），用于初始条件。"
   ]
  },
  {
   "cell_type": "markdown",
   "id": "37b283ff-80a1-4074-8c63-0df265a63925",
   "metadata": {},
   "source": [
    "#### 周期边界条件"
   ]
  },
  {
   "cell_type": "markdown",
   "id": "42cbb359-8cd3-4bf0-ac27-70921c2e5c6d",
   "metadata": {},
   "source": [
    "`pinnsjax.data.DirichletBoundaryCondition` 用于指定函数在域中特定点或边界处的固定值。在我们的例子中，对于Burgers方程，我们有：\n",
    "\n",
    "$$ u(t,-1) = u(t, 1) = 0 $$"
   ]
  },
  {
   "cell_type": "code",
   "execution_count": 12,
   "id": "7002a433-0e32-441d-a60e-6386f8c2c594",
   "metadata": {},
   "outputs": [],
   "source": [
    "N_b = 50\n",
    "di_b = pinnsjax.data.DirichletBoundaryCondition(mesh = mesh,\n",
    "                                                num_sample = N_b,\n",
    "                                                solution = ['u'])"
   ]
  },
  {
   "cell_type": "markdown",
   "id": "17457d3d-3ccd-4b79-b7ab-1975bc9d19a3",
   "metadata": {},
   "source": [
    "#### 用于采集点和解的网格采样器\n",
    "\n",
    "在我们的问题中，描述动力学的偏微分方程（PDEs）如下：\n",
    "\n",
    "$$ f_u := u_t + uu_x - (0.01/\\pi)u_{xx}$$\n",
    "\n",
    "为了使用神经网络找到这些PDEs的解，我们必须从域中采样点，在这些点上网络将被训练以满足这些方程。这个采样过程对于训练我们的PINN至关重要。我们使用 `pinnsjax.data.MeshSampler` 来实现这一目的，指定以下内容：\n",
    "\n",
    "- **采样点数量 (N_f)：** 我们选择从域中采样20,000个点。这个数字是计算效率和捕捉PDEs动态需要足够密集采样之间的平衡。\n",
    "- **网格 (mesh)：** 这个参数定义了将从中采样点的时空域。\n",
    "- **采集点：** 我们定义 `['f_u']` 作为我们采集点的目标。这些不是神经网络的直接输出，而是从网络输出及其导数派生的（我们稍后将定义 `pde_fn` 函数）。PINN将被训练，使这些表达式趋向于零，与PDE约束对齐。\n",
    "\n",
    "以下是实现这个采样器的代码："
   ]
  },
  {
   "cell_type": "code",
   "execution_count": 13,
   "id": "492bb3de-453c-49b3-b2e6-add7f3458de7",
   "metadata": {},
   "outputs": [],
   "source": [
    "N_f = 20000\n",
    "me_s = pinnsjax.data.MeshSampler(mesh = mesh,\n",
    "                                 num_sample = N_f,\n",
    "                                 collection_points = ['f_u'])"
   ]
  },
  {
   "cell_type": "markdown",
   "id": "76ed5d5e-f384-4480-b1e5-49d2b88a87ae",
   "metadata": {},
   "source": [
    "### 定义验证数据集\n",
    "\n",
    "对于验证，我们从网格中采样所有点来全面评估我们的模型。模型将针对 `u` 的解进行验证。\n",
    "\n",
    "**注意：** 如果未指定 `num_sample`，采样器将使用整个网格。"
   ]
  },
  {
   "cell_type": "code",
   "execution_count": 14,
   "id": "7c530a34-deef-4660-849b-02c240c5db11",
   "metadata": {},
   "outputs": [],
   "source": [
    "val_s = pinnsjax.data.MeshSampler(mesh = mesh,\n",
    "                                  solution = ['u'])"
   ]
  },
  {
   "cell_type": "markdown",
   "id": "9959e346-1d1a-4d9c-bf38-d23c956d34f8",
   "metadata": {},
   "source": [
    "### 定义神经网络\n",
    "\n",
    "在这里，我们尝试定义一个用于解决问题的神经网络。为了定义神经网络，我们应该设置层数和输出的名称。还应该定义域边界。`lb` 和 `ub` 参数表示时空域的下界和上界，有助于规范化网络的输入。因此，该网络的输入是 `x` 和 `t`，输出是 `u`。"
   ]
  },
  {
   "cell_type": "code",
   "execution_count": 15,
   "id": "5eeb7181-3dfe-4aa9-b454-61644b1542c9",
   "metadata": {},
   "outputs": [],
   "source": [
    "net = pinnsjax.models.FCN(layers = [2, 20, 20, 20, 20, 20, 20, 20, 20, 1],\n",
    "                          output_names = ['u'],\n",
    "                          lb=mesh.lb,\n",
    "                          ub=mesh.ub)"
   ]
  },
  {
   "cell_type": "markdown",
   "id": "260e697e-f68b-4c17-9445-fe319aa06221",
   "metadata": {},
   "source": [
    "### 定义 `pde_fn` 函数\n",
    "\n",
    "现在，我们定义 `pde_fn`。\n",
    "- **`pde_fn`：** 制定PDE约束，这将被 `MeshSampler` 用于计算收集点处的损失。"
   ]
  },
  {
   "cell_type": "markdown",
   "id": "db0f43f5-972b-4be0-94da-40feea4ea3c7",
   "metadata": {},
   "source": [
    "#### `pde_fn` 函数\n",
    "\n",
    "**注意：** `pde_fn` 应始终有五个输入：\n",
    "- **功能模型：** 这是神经网络或任何其他功能近似模型，用于使用JAX自动微分计算梯度。\n",
    "- **模型参数：** 包括模型的所有可训练参数以及反问题所需的任何其他参数。\n",
    "- **输出：** 网络的输出，通常是一个字典。对于Burgers方程，这个字典应该至少有一个键 `u` 表示函数 `u(t, x)`。\n",
    "- **空间域：** 这些是空间域变量。在我们的例子中，由于我们的问题有1-D空间域，输入只有 `x`。例如，如果我们有2-D空间，我们需要为该维度增加另一个输入。例如，输入从 `(functional_model, params, outputs, x, t)` 将变为 `(functional_model, params, outputs, x, y, t)`。\n",
    "- **时间域：** `pde_fn` 函数的最后一个输入始终应该是时间。"
   ]
  },
  {
   "cell_type": "code",
   "execution_count": 16,
   "id": "e8763e3c-ebaa-4f59-8a75-515818f379f3",
   "metadata": {},
   "outputs": [],
   "source": [
    "def pde_fn(functional_model,\n",
    "           params,\n",
    "           outputs: Dict[str, jax.Array],\n",
    "           x: jax.Array,\n",
    "           t: jax.Array):   \n",
    "    \"\"\"定义偏微分方程(PDEs)。\"\"\"\n",
    "\n",
    "    # 计算u对x和t的一阶偏导数\n",
    "    u_x, u_t = pinnsjax.utils.gradient(\n",
    "        functional_model, \n",
    "        argnums=(1, 2), \n",
    "        order=1\n",
    "    )(params, x, t, 'u')\n",
    "    \n",
    "    # 计算u对x的二阶偏导数\n",
    "    u_xx = pinnsjax.utils.gradient(\n",
    "        functional_model, \n",
    "        argnums=1, \n",
    "        order=2\n",
    "    )(params, x, t, 'u')[0]\n",
    "\n",
    "    outputs[\"f_u\"] = u_t + outputs[\"u\"] * u_x - (0.01 / np.pi) * u_xx\n",
    "\n",
    "    return outputs"
   ]
  },
  {
   "cell_type": "markdown",
   "id": "5ed79263-eeff-466d-b5c1-183c0d050329",
   "metadata": {},
   "source": [
    "### 定义PINNDataModule和PINNModule\n",
    "\n",
    "为了与Lightning集成，我们使用两个专门的模块：\n",
    "\n",
    "- `PINNDataModule` 管理数据。\n",
    "- `PINNModule` 处理模型和编译。"
   ]
  },
  {
   "cell_type": "markdown",
   "id": "b04abdf5-b97e-433a-8663-a6b2866200d9",
   "metadata": {},
   "source": [
    "#### 定义 `PINNDataModule`\n",
    "在这里，我们将收集点、初始条件和周期边界条件定义为训练数据集，并设置验证集。`PINNDataModule` 用于定义训练、验证、预测和测试数据集。"
   ]
  },
  {
   "cell_type": "code",
   "execution_count": 17,
   "id": "bc810afe-fa36-4948-b31f-e5527e54b28b",
   "metadata": {},
   "outputs": [],
   "source": [
    "train_datasets = [me_s, in_c, di_b]\n",
    "val_dataset = val_s\n",
    "datamodule = pinnsjax.data.PINNDataModule(train_datasets = train_datasets,\n",
    "                                          val_dataset = val_dataset,\n",
    "                                          pred_dataset = val_s)"
   ]
  },
  {
   "cell_type": "markdown",
   "id": "1d170a8a-a55e-4d40-9078-4a2f56b32813",
   "metadata": {},
   "source": [
    "#### 定义 `PINNModule`\n",
    "\n",
    "`PINNModule` 处理几个事项。在这里，我们将探讨这个类的输入：\n",
    "\n",
    "- **net：** 用于近似解的神经网络模型。\n",
    "- **pde_fn：** 定义要解决的PDE的偏微分方程函数。\n",
    "- **optimizer：** （可选）用于训练神经网络的优化器。默认是Adam。\n",
    "- **loss_fn：** （可选）要使用的损失函数，\"sse\" 或 \"mse\"。默认是 \"sse\"。\n",
    "- **extra_variables：** （可选）反问题中的额外变量。默认是None。\n",
    "- **runge_kutta：** （可选）在离散模式下解PDEs的龙格-库塔方法。默认是None。\n",
    "- **jit_compile：** （可选）启用JIT编译的标志。默认是True。\n",
    "\n",
    "在此示例中，我们使用定义的变量初始化 `PINNModule`。我们设置Adam优化器，并尝试使用XLA编译器编译模型。这里的损失函数是均方误差（MSE）。"
   ]
  },
  {
   "cell_type": "code",
   "execution_count": 18,
   "id": "1a23d83e-d7b6-468e-8204-74b9a40355a0",
   "metadata": {},
   "outputs": [],
   "source": [
    "model = pinnsjax.models.PINNModule(net = net,\n",
    "                                   pde_fn = pde_fn,\n",
    "                                   loss_fn = 'mse')"
   ]
  },
  {
   "cell_type": "markdown",
   "id": "730294eb-5dd2-46ee-84d7-4743f8bbff13",
   "metadata": {},
   "source": [
    "### 设置训练器\n",
    "\n",
    "为了训练我们的模型，我们编写自定义训练器。您可以设置的参数包括：\n",
    "\n",
    "- **max_epochs：** 最大训练轮数。\n",
    "- **check_val_every_n_epoch：** （可选）在轮次内验证检查的频率。默认为1。\n",
    "- **enable_progress_bar：** （可选）启用/禁用进度条的标志。默认为True。\n"
   ]
  },
  {
   "cell_type": "code",
   "execution_count": 19,
   "id": "2d63a5cc-a0c4-4de7-ba2b-2b10f5140fc9",
   "metadata": {},
   "outputs": [],
   "source": [
    "trainer = pinnsjax.Trainer(max_epochs=1000, check_val_every_n_epoch=100)"
   ]
  },
  {
   "cell_type": "markdown",
   "id": "5107377f-c811-43c8-8534-644a1dbb640d",
   "metadata": {},
   "source": [
    "### 训练"
   ]
  },
  {
   "cell_type": "code",
   "execution_count": 20,
   "id": "ee7c8b03-1706-4ba4-84c5-0d293a178a9d",
   "metadata": {},
   "outputs": [
    {
     "name": "stderr",
     "output_type": "stream",
     "text": [
      "1000/1000 100%|██████████|[已用时间: 03:16, 剩余时间: 00:00,  5.10it/s, val/loss: 0.0312, val/error_u: 0.2877, train/loss: 0.0203: ]\n"
     ]
    }
   ],
   "source": [
    "trainer.fit(model=model, datamodule=datamodule)"
   ]
  },
  {
   "cell_type": "markdown",
   "id": "82b872bd-6120-4c65-8693-a9281a2d2396",
   "metadata": {},
   "source": [
    "### 验证"
   ]
  },
  {
   "cell_type": "code",
   "execution_count": 21,
   "id": "26c2c9b9-52e9-4a89-aa44-be86fbb27e22",
   "metadata": {},
   "outputs": [
    {
     "data": {
      "text/plain": [
       "(Array(0.02648816, dtype=float32), {'u': Array(0.2649225, dtype=float32)})"
      ]
     },
     "execution_count": 21,
     "metadata": {},
     "output_type": "execute_result"
    }
   ],
   "source": [
    "trainer.validate(model=model, datamodule=datamodule)"
   ]
  },
  {
   "cell_type": "markdown",
   "id": "5cd209e5-e554-4baf-9c4b-f78174f8147c",
   "metadata": {},
   "source": [
    "### 绘图\n",
    "\n",
    "对于绘图，我们需要预测结果，然后我们应该连接结果。"
   ]
  },
  {
   "cell_type": "code",
   "execution_count": 22,
   "id": "d1a853d0-edc1-494f-a5ff-0ad21870aeb6",
   "metadata": {},
   "outputs": [],
   "source": [
    "preds_dict = trainer.predict(model=model, datamodule=datamodule)"
   ]
  },
  {
   "cell_type": "code",
   "execution_count": 23,
   "id": "07f1631e-0f78-4a62-8833-9ae69bf3ada9",
   "metadata": {},
   "outputs": [
    {
     "data": {
      "image/png": "[encoded data removed]",
      "text/plain": [
       "<Figure size 809.465x450.249 with 6 Axes>"
      ]
     },
     "metadata": {},
     "output_type": "display_data"
    }
   ],
   "source": [
    "for sol_key, pred in preds_dict.items():\n",
    "    preds_dict[sol_key] = pred\n",
    "pinnsjax.utils.plot_burgers_continuous_forward(mesh=mesh,\n",
    "                                               preds=preds_dict,\n",
    "                                               train_datasets=train_datasets,\n",
    "                                               val_dataset=val_dataset,\n",
    "                                               file_name='out')"
   ]
  }
 ],
 "metadata": {
  "kernelspec": {
   "display_name": "pinn-jax",
   "language": "python",
   "name": "python3"
  },
  "language_info": {
   "codemirror_mode": {
    "name": "ipython",
    "version": 3
   },
   "file_extension": ".py",
   "mimetype": "text/x-python",
   "name": "python",
   "nbconvert_exporter": "python",
   "pygments_lexer": "ipython3",
   "version": "3.9.21"
  }
 },
 "nbformat": 4,
 "nbformat_minor": 5
}
